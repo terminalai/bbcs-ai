{
 "cells": [
  {
   "cell_type": "markdown",
   "metadata": {},
   "source": [
    "# **Init**"
   ]
  },
  {
   "cell_type": "code",
   "execution_count": 1,
   "metadata": {},
   "outputs": [
    {
     "name": "stdout",
     "output_type": "stream",
     "text": [
      "True\n"
     ]
    }
   ],
   "source": [
    "import torch\n",
    "import torch.nn as nn\n",
    "import os\n",
    "import matplotlib.pyplot as plt\n",
    "import pandas as pd\n",
    "import cv2\n",
    "import random\n",
    "import numpy as np\n",
    "\n",
    "print(torch.cuda.is_available())\n",
    "device = torch.device(\"cuda:0\" if torch.cuda.is_available() else \"cpu\")"
   ]
  },
  {
   "cell_type": "markdown",
   "metadata": {},
   "source": [
    "# **Formatting of training data into pixel values to be inputted into the Neural Network**"
   ]
  },
  {
   "cell_type": "code",
   "execution_count": 2,
   "metadata": {},
   "outputs": [
    {
     "name": "stderr",
     "output_type": "stream",
     "text": [
      "C:\\Users\\setho\\AppData\\Local\\Temp\\ipykernel_44932\\1486572466.py:16: VisibleDeprecationWarning: Creating an ndarray from ragged nested sequences (which is a list-or-tuple of lists-or-tuples-or ndarrays with different lengths or shapes) is deprecated. If you meant to do this, you must specify 'dtype=object' when creating the ndarray.\n",
      "  data = np.asarray(data)\n",
      "C:\\Users\\setho\\AppData\\Local\\Temp\\ipykernel_44932\\1486572466.py:25: UserWarning: Creating a tensor from a list of numpy.ndarrays is extremely slow. Please consider converting the list to a single numpy.ndarray with numpy.array() before converting to a tensor. (Triggered internally at  ..\\torch\\csrc\\utils\\tensor_new.cpp:210.)\n",
      "  x = torch.cuda.FloatTensor(x)\n"
     ]
    },
    {
     "name": "stdout",
     "output_type": "stream",
     "text": [
      "True\n",
      "True\n"
     ]
    }
   ],
   "source": [
    "data = []\n",
    "\n",
    "def create_training_data():\n",
    "  file_path = os.getcwd() + r\"\\content\\seg_train\"\n",
    "  types = ['buildings','forest','glacier','mountain','sea','street']\n",
    "  for category in types:\n",
    "    class_num = types.index(category)\n",
    "    path = os.path.join(file_path,category)\n",
    "    for img in os.listdir(path):\n",
    "      img_array = cv2.imread(os.path.join(path,img), 0)\n",
    "      if img_array.shape == (150,150):\n",
    "        img_array = np.reshape(img_array,22500)\n",
    "        data.append([img_array,class_num])\n",
    "\n",
    "create_training_data()\n",
    "data = np.asarray(data)\n",
    "random.shuffle(data)\n",
    "x = data[:,0]\n",
    "y = torch.zeros(13986,6)\n",
    "x = x.tolist()\n",
    "Y = data[:,1]\n",
    "Y = Y.tolist()\n",
    "y = y.cuda()\n",
    "y.to(device)\n",
    "x = torch.cuda.FloatTensor(x)\n",
    "x = x/255\n",
    "print(x.is_cuda)\n",
    "y_data = torch.cuda.FloatTensor(Y)\n",
    "\n",
    "for n in range(13986):\n",
    "  if y_data[n] == 5:\n",
    "    y[n,5] += 1\n",
    "  elif y_data[n] == 4:\n",
    "    y[n,4] += 1\n",
    "  elif y_data[n] == 3:\n",
    "    y[n,3] += 1\n",
    "  elif y_data[n] == 2:\n",
    "    y[n,2] += 1\n",
    "  elif y_data[n] == 1:\n",
    "    y[n,1] += 1\n",
    "  elif y_data[n] == 0:\n",
    "    y[n,0] += 1\n",
    "\n",
    "print(y.is_cuda)"
   ]
  },
  {
   "cell_type": "markdown",
   "metadata": {},
   "source": [
    "# **Creation of Convolutional Neural Network Model and Training the model using Training Data**"
   ]
  },
  {
   "cell_type": "code",
   "execution_count": null,
   "metadata": {},
   "outputs": [],
   "source": [
    "\n",
    "class NeuralNetwork(nn.Module):\n",
    "  def __init__(self,n_input,n_hidden_1,n_hidden_2,n_output):\n",
    "    super(NeuralNetwork,self).__init__()\n",
    "    self.l1 = nn.Linear(n_input,n_hidden_1)\n",
    "    self.softmax = nn.Softmax()\n",
    "    self.l2 = nn.Linear(n_hidden_1,n_hidden_2)\n",
    "    self.l3 = nn.Linear(n_hidden_2,n_output)\n",
    "\n",
    "  def forward(self,X):\n",
    "    out = self.l1(X)\n",
    "    out = self.softmax(out)\n",
    "    out = self.l2(out)\n",
    "    out = self.softmax(out)\n",
    "    out = self.l3(out)\n",
    "    out = self.softmax(out)\n",
    "    return out\n",
    "\n",
    "input_features = 22500\n",
    "hidden_feature_1 = 128\n",
    "hidden_feature_2 = 128\n",
    "output_features = 6\n",
    "model = NeuralNetwork(input_features,hidden_feature_1,hidden_feature_2,output_features)\n",
    "criterion = nn.CrossEntropyLoss()\n",
    "learning_rate = 0.005\n",
    "optimiser = torch.optim.Adam(model.parameters(),lr=learning_rate)\n",
    "iterations = 1000000\n",
    "model.to(device).eval()\n",
    "\n",
    "for epoch in range(iterations):\n",
    "  y_predicted = model(x)\n",
    "  loss = criterion(y_predicted,y)\n",
    "  loss.backward()\n",
    "  optimiser.step()\n",
    "  print('epoch: ' , epoch+1)\n",
    "  if epoch+1 == iterations:\n",
    "    print('Training Complete')\n",
    "\n",
    "torch.save(model, os.getcwd() + r'\\content\\model\\model5.pth')"
   ]
  },
  {
   "cell_type": "markdown",
   "metadata": {},
   "source": [
    "# **Testing of Convolutional Neural Network in Testing Sequence using Testing Data**"
   ]
  },
  {
   "cell_type": "code",
   "execution_count": null,
   "metadata": {},
   "outputs": [],
   "source": [
    "\n",
    "torch.load(os.getcwd() + r'\\content\\model\\model4.pth')\n",
    "\n",
    "\n",
    "data_test = []\n",
    "data_color = []\n",
    "test_set = int(input('Test set number: '))\n",
    "\n",
    "def testing_data():\n",
    "  file_path = os.getcwd() + r'\\content\\seg_test'\n",
    "  types = ['buildings','forest','glacier','mountain','sea','street']\n",
    "  for category in types:\n",
    "    class_num = types.index(category)\n",
    "    path = os.path.join(file_path,category)  \n",
    "    for img in os.listdir(path):\n",
    "      img_array_test = cv2.imread(os.path.join(path,img), 0)\n",
    "      img_array_color = cv2.imread(os.path.join(path,img), 1)\n",
    "      \n",
    "      if img_array_test.shape == (150,150):\n",
    "        img_array_test_reshape = np.reshape(img_array_test,22500)\n",
    "        img_array_color_reshape = np.reshape(img_array_color,(150,150,3))\n",
    "        data_test.append([img_array_test_reshape,class_num])\n",
    "        data_color.append(img_array_color)\n",
    "\n",
    "testing_data()\n",
    "data_test = np.asarray(data_test)\n",
    "plt.imshow(data_color[test_set])\n",
    "x_test = data_test[:,0]\n",
    "y_test = torch.zeros(1000,6)\n",
    "x_test = x_test.tolist()\n",
    "Y_test = data_test[:,1]\n",
    "Y_test = Y_test.tolist()\n",
    "x_test = torch.cuda.FloatTensor(x_test)\n",
    "x_test = x_test/255\n",
    "y_test_data = torch.cuda.FloatTensor(Y_test)\n",
    "\n",
    "\n",
    "def test(x_test,Y_test):\n",
    "  if model(x_test[test_set])[0] > 0.6:\n",
    "    print('Predicted feature: buildings')\n",
    "  elif model(x_test[test_set])[1] > 0.6:\n",
    "    print('Predicted feature: forest')\n",
    "  elif model(x_test[test_set])[2] > 0.6:\n",
    "    print('Predicted feature: glacier')\n",
    "  elif model(x_test[test_set])[3] > 0.6:\n",
    "    print('Predicted feature: mountain')\n",
    "  elif model(x_test[test_set])[4] > 0.6:\n",
    "    print('Predicted feature: sea')\n",
    "  elif model(x_test[test_set])[5] > 0.6:\n",
    "    print('Predicted feature: street')\n",
    "  else:\n",
    "    print('No Prediction')\n",
    "\n",
    "  if Y_test[test_set] == 0:\n",
    "    print('Actual feature: buildings')\n",
    "  elif Y_test[test_set] == 1:\n",
    "    print('Actual feature: forest')\n",
    "  elif Y_test[test_set] == 2:\n",
    "    print('Actual feaure: glacier')\n",
    "  elif Y_test[test_set] == 3:\n",
    "    print('Actual feature: mountain')\n",
    "  elif Y_test[test_set] == 4:\n",
    "    print('Actual feature: sea')\n",
    "  elif Y_test[test_set] == 5:\n",
    "    print('Actual feature: street')\n",
    "\n",
    "test(x_test,Y_test)"
   ]
  }
 ],
 "metadata": {
  "interpreter": {
   "hash": "eb07dd78c66fde35371cdb01f717183695b20a3cb5e395443e5c2d14b594c425"
  },
  "kernelspec": {
   "display_name": "Python 3.10.4 64-bit",
   "language": "python",
   "name": "python3"
  },
  "language_info": {
   "codemirror_mode": {
    "name": "ipython",
    "version": 3
   },
   "file_extension": ".py",
   "mimetype": "text/x-python",
   "name": "python",
   "nbconvert_exporter": "python",
   "pygments_lexer": "ipython3",
   "version": "3.10.4"
  },
  "orig_nbformat": 4
 },
 "nbformat": 4,
 "nbformat_minor": 2
}
